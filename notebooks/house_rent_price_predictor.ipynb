{
 "cells": [
  {
   "cell_type": "markdown",
   "id": "d26e43d3-9816-46d9-a7cc-d607cd49c34e",
   "metadata": {},
   "source": [
    "# Imports"
   ]
  },
  {
   "cell_type": "code",
   "execution_count": null,
   "id": "f5bbdfde-4006-41a7-82bd-3b18b7bd0481",
   "metadata": {},
   "outputs": [],
   "source": [
    "import numpy as np\n",
    "import pandas as pd\n",
    "import matplotlib.pyplot as plt\n",
    "import seaborn as sns\n",
    "from sklearn.preprocessing import StandardScaler\n",
    "import statsmodels.api as sm\n",
    "from statsmodels.formula.api import ols\n",
    "from scipy.stats import norm\n",
    "from scipy import stats\n",
    "from sklearn.model_selection import train_test_split\n",
    "from sklearn.compose import ColumnTransformer\n",
    "from sklearn.pipeline import Pipeline\n",
    "from sklearn.preprocessing import OneHotEncoder\n",
    "from sklearn.metrics import r2_score, mean_absolute_error, mean_squared_error\n",
    "from sklearn.linear_model import LinearRegression, Ridge, Lasso\n",
    "from sklearn.neighbors import KNeighborsRegressor\n",
    "from sklearn.tree import DecisionTreeRegressor\n",
    "from sklearn.ensemble import RandomForestRegressor, GradientBoostingRegressor, AdaBoostRegressor, ExtraTreesRegressor, VotingRegressor, StackingRegressor\n",
    "from sklearn.svm import SVR\n",
    "from xgboost import XGBRegressor\n",
    "from sklearn.model_selection import GridSearchCV\n",
    "import joblib\n",
    "from src.model.log_scaler import LogScaler\n",
    "from src.model.interval_voting_regressor import IntervalVotingRegressor\n",
    "from config import config"
   ]
  },
  {
   "cell_type": "markdown",
   "id": "d40e043d-b26d-4122-86f7-7b36ba42e223",
   "metadata": {},
   "source": [
    "# Load data and copy dataframe"
   ]
  },
  {
   "cell_type": "code",
   "execution_count": null,
   "id": "6e4ccff3-ec0c-4775-8288-401d9d5058e4",
   "metadata": {},
   "outputs": [],
   "source": [
    "pd.set_option('display.max_columns', 100)\n",
    "pd.set_option('display.width', 1000)\n",
    "\n",
    "initial_df = pd.read_csv(config.get_path('raw_data_csv_path'))\n",
    "df = initial_df.copy(deep=True)"
   ]
  },
  {
   "cell_type": "code",
   "execution_count": null,
   "id": "195a390a-8c2a-498f-acf9-96fe3ceff0f0",
   "metadata": {},
   "outputs": [],
   "source": [
    "df.head()"
   ]
  },
  {
   "cell_type": "code",
   "execution_count": null,
   "id": "0b4649a4-dc46-4b69-affd-9def183dc397",
   "metadata": {},
   "outputs": [],
   "source": [
    "df.shape"
   ]
  },
  {
   "cell_type": "code",
   "execution_count": null,
   "id": "c2c7e52d-a3c7-4863-85f1-e6fb350b079c",
   "metadata": {},
   "outputs": [],
   "source": [
    "df.info()"
   ]
  },
  {
   "cell_type": "markdown",
   "id": "c250d133-69c8-4be7-b8df-79d61fc3b046",
   "metadata": {},
   "source": [
    "# Remove unimportant column"
   ]
  },
  {
   "cell_type": "code",
   "execution_count": null,
   "id": "1bb43d94-4649-4578-9a6a-5e887a84a833",
   "metadata": {},
   "outputs": [],
   "source": [
    "df.drop('Unnamed: 0', axis=1, inplace=True)\n",
    "df.head()"
   ]
  },
  {
   "cell_type": "markdown",
   "id": "73f747b9-f821-430d-88f2-9e964f13f26d",
   "metadata": {},
   "source": [
    "# Check and remove duplicates"
   ]
  },
  {
   "cell_type": "code",
   "execution_count": null,
   "id": "a595821c-6071-4b83-a0df-a188aa09bcf4",
   "metadata": {},
   "outputs": [],
   "source": [
    "df.duplicated().sum()"
   ]
  },
  {
   "cell_type": "code",
   "execution_count": null,
   "id": "812a1ef7-e84e-4076-ae28-18c07b589742",
   "metadata": {},
   "outputs": [],
   "source": [
    "df.drop_duplicates(inplace=True)"
   ]
  },
  {
   "cell_type": "code",
   "execution_count": null,
   "id": "2dedc643-a4fa-421e-a1ce-c7ef640c4244",
   "metadata": {},
   "outputs": [],
   "source": [
    "df.shape"
   ]
  },
  {
   "cell_type": "markdown",
   "id": "69335f00-8b13-4dc8-886a-2b81bdf29301",
   "metadata": {},
   "source": [
    "# Check null values"
   ]
  },
  {
   "cell_type": "code",
   "execution_count": null,
   "id": "e462d013-b71f-47d1-a483-5b66840cb344",
   "metadata": {},
   "outputs": [],
   "source": [
    "df.isnull().sum()"
   ]
  },
  {
   "cell_type": "code",
   "execution_count": null,
   "id": "fa84b3d6-48ae-4a33-8dfd-3cd32a46aa2a",
   "metadata": {},
   "outputs": [],
   "source": [
    "df['null_counts'] = df.isnull().sum(axis=1)\n",
    "df.head()"
   ]
  },
  {
   "cell_type": "code",
   "execution_count": null,
   "id": "bf979a04-54eb-4755-b81a-777e038aaf8a",
   "metadata": {},
   "outputs": [],
   "source": [
    "for i in range(1, df['null_counts'].max() + 1):\n",
    "    print(\"null_counts > %s = %s\" % (i, len(df[df['null_counts'] > i])))"
   ]
  },
  {
   "cell_type": "markdown",
   "id": "2d0961ee-c228-4857-9829-345dccfba100",
   "metadata": {},
   "source": [
    "# Delete 47 rows in which most columns are null"
   ]
  },
  {
   "cell_type": "code",
   "execution_count": null,
   "id": "5c419f30-edbd-4641-a3cb-f8705f3d23e4",
   "metadata": {},
   "outputs": [],
   "source": [
    "df.drop(df[df['null_counts'] > 4].index, axis=0, inplace=True)\n",
    "df.shape"
   ]
  },
  {
   "cell_type": "code",
   "execution_count": null,
   "id": "64933903-427d-4393-83d5-690098538f11",
   "metadata": {},
   "outputs": [],
   "source": [
    "df.drop(columns=['null_counts'], inplace=True)\n",
    "df.shape"
   ]
  },
  {
   "cell_type": "markdown",
   "id": "4ece5da5-5837-4471-b33c-9ec466c36887",
   "metadata": {},
   "source": [
    "# Remove currency and convert prices to float"
   ]
  },
  {
   "cell_type": "code",
   "execution_count": null,
   "id": "bb19815b-f24b-489b-a719-1a609d9cdcaa",
   "metadata": {},
   "outputs": [],
   "source": [
    "df['Ціна'].str.contains('грн.').sum()"
   ]
  },
  {
   "cell_type": "code",
   "execution_count": null,
   "id": "b9b9746f-aba4-4fb5-ad05-2267d0ad83d3",
   "metadata": {},
   "outputs": [],
   "source": [
    "df['Ціна'].str.contains('span').sum()"
   ]
  },
  {
   "cell_type": "code",
   "execution_count": null,
   "id": "e4c7af40-0893-48d1-9ed6-69f4f50d359e",
   "metadata": {},
   "outputs": [],
   "source": [
    "df['Ціна'] = df['Ціна'].str.split('грн.', expand=True)[0]\n",
    "df['Ціна'] = df['Ціна'].str.replace(r'\\s+', '', regex=True)\n",
    "df['Ціна'] = df['Ціна'].astype('float32')"
   ]
  },
  {
   "cell_type": "code",
   "execution_count": null,
   "id": "df4f3996-6d56-446d-978d-3cf2c0812292",
   "metadata": {},
   "outputs": [],
   "source": [
    "df.head()"
   ]
  },
  {
   "cell_type": "code",
   "execution_count": null,
   "id": "9c7d1a14-c2fd-40a1-a37e-ea20d6b89dd9",
   "metadata": {},
   "outputs": [],
   "source": [
    "df['Ціна'].describe()"
   ]
  },
  {
   "cell_type": "markdown",
   "id": "d42f5347-5f48-4876-8901-3ab17b5197b2",
   "metadata": {},
   "source": [
    "# Check and remove outliers in the price column"
   ]
  },
  {
   "cell_type": "code",
   "execution_count": null,
   "id": "a97d8c3f-c1fd-480b-bca4-7fbc35b3b400",
   "metadata": {},
   "outputs": [],
   "source": [
    "sorted_df_by_price = df.sort_values(by=['Ціна'])\n",
    "low_prices = sorted_df_by_price['Ціна'].head(10)\n",
    "high_prices = sorted_df_by_price['Ціна'].tail(20)\n",
    "print('outer range (low) of the distribution:')\n",
    "print(low_prices)\n",
    "print('\\nouter range (high) of the distribution:')\n",
    "print(high_prices)"
   ]
  },
  {
   "cell_type": "code",
   "execution_count": null,
   "id": "02753064-2a59-4a3b-9ffc-ca22ac05161e",
   "metadata": {},
   "outputs": [],
   "source": [
    "price_scaled = StandardScaler().fit_transform(np.array(df['Ціна'])[:,np.newaxis]);\n",
    "low_range = price_scaled[price_scaled[:,0].argsort()][:10]\n",
    "high_range= price_scaled[price_scaled[:,0].argsort()][-20:]\n",
    "print('outer range (low) of the distribution:')\n",
    "print(low_range)\n",
    "print('\\nouter range (high) of the distribution:')\n",
    "print(high_range)"
   ]
  },
  {
   "cell_type": "code",
   "execution_count": null,
   "id": "d033320b-e2f8-4fef-8e73-a1239c6154d0",
   "metadata": {},
   "outputs": [],
   "source": [
    "df = df[df['Ціна'] < 100000.0]\n",
    "df.shape"
   ]
  },
  {
   "cell_type": "markdown",
   "id": "9dba39be-45b2-4b66-8cae-f0325b7b02b8",
   "metadata": {},
   "source": [
    "# Check price distribution"
   ]
  },
  {
   "cell_type": "code",
   "execution_count": null,
   "id": "20af550d-0d12-462c-aa54-44d6cdfe0438",
   "metadata": {},
   "outputs": [],
   "source": [
    "plt.figure(figsize=(15, 3))\n",
    "sns.histplot(df['Ціна'])\n",
    "plt.xticks(np.arange(0, df['Ціна'].max(), 10000))\n",
    "plt.show()"
   ]
  },
  {
   "cell_type": "markdown",
   "id": "62f66099-3073-4d68-874c-61f24f426d03",
   "metadata": {},
   "source": [
    "# Convert City/District column to 2 separate columns with city and district"
   ]
  },
  {
   "cell_type": "code",
   "execution_count": null,
   "id": "ad5c8a06-67be-40b8-8e47-40e650c6dc06",
   "metadata": {},
   "outputs": [],
   "source": [
    "df['Локація (Місто, Район)'].str.contains(' - ').sum()"
   ]
  },
  {
   "cell_type": "code",
   "execution_count": null,
   "id": "b950fb9b-b2ad-4593-8460-1d314d8c9a5c",
   "metadata": {},
   "outputs": [],
   "source": [
    "df['Локація (Місто, Район)'].str.contains(', ').sum()"
   ]
  },
  {
   "cell_type": "code",
   "execution_count": null,
   "id": "e014eb5b-326b-43d4-9e7f-a955d083cedb",
   "metadata": {},
   "outputs": [],
   "source": [
    "def convert_district(row):\n",
    "    city = row['Місто']\n",
    "    district = row['Район']\n",
    "    if city and district:\n",
    "        return district + ' ({city})'.format(city=city)\n",
    "    return district"
   ]
  },
  {
   "cell_type": "code",
   "execution_count": null,
   "id": "0a2ebdf6-d124-4123-8bc5-fd9390bc76ad",
   "metadata": {},
   "outputs": [],
   "source": [
    "df[['Місто', 'Район']] = df['Локація (Місто, Район)'].str.split(' - ', expand=True)[0].str.split(', ', expand=True)\n",
    "df['Місто'] = df['Місто'].str.replace('<!-- -->', '')\n",
    "df['Район'] = df['Район'].str.replace('<!-- -->', '')\n",
    "df['Район'] = df.apply(convert_district, axis=1)\n",
    "df.sample(10)"
   ]
  },
  {
   "cell_type": "markdown",
   "id": "b5077de6-4f22-45c2-8da8-ffba263237a9",
   "metadata": {},
   "source": [
    "# Replace rarely seen cities with 'other'"
   ]
  },
  {
   "cell_type": "code",
   "execution_count": null,
   "id": "3647f498-f803-4eab-99cb-412d4130bc29",
   "metadata": {},
   "outputs": [],
   "source": [
    "cities_value_counts = df['Місто'].value_counts()"
   ]
  },
  {
   "cell_type": "code",
   "execution_count": null,
   "id": "6bb28366-765f-4284-8311-c05ff5a6344c",
   "metadata": {},
   "outputs": [],
   "source": [
    "cities_value_counts.count()"
   ]
  },
  {
   "cell_type": "code",
   "execution_count": null,
   "id": "e4c634da-f709-4072-be52-40b189716a51",
   "metadata": {},
   "outputs": [],
   "source": [
    "cities_value_counts[cities_value_counts < 3].count()"
   ]
  },
  {
   "cell_type": "code",
   "execution_count": null,
   "id": "a1d7d783-e982-47e9-a455-e1a27e821743",
   "metadata": {},
   "outputs": [],
   "source": [
    "cities_value_counts_less_than_3 = cities_value_counts[cities_value_counts < 3]\n",
    "df['Місто'] = df['Місто'].apply(lambda x: 'Інше' if x in cities_value_counts_less_than_3 else x)\n",
    "df['Місто'].value_counts()"
   ]
  },
  {
   "cell_type": "markdown",
   "id": "3502c8aa-db8c-41da-91db-a0ae18326fb6",
   "metadata": {},
   "source": [
    "# Check average rent prices by city"
   ]
  },
  {
   "cell_type": "code",
   "execution_count": null,
   "id": "7fdce004-c8b1-4251-9bdb-d502f15a40e8",
   "metadata": {},
   "outputs": [],
   "source": [
    "grouped = df.groupby(['Місто'])['Ціна'].aggregate('mean').reset_index().sort_values('Ціна', ascending=False)\n",
    "plt.figure(figsize=(15, 5))\n",
    "sns.barplot(x='Місто', y='Ціна', data=df, order=grouped['Місто'])\n",
    "plt.xticks(rotation=90)\n",
    "plt.show()"
   ]
  },
  {
   "cell_type": "markdown",
   "id": "949674ad-0cf4-46cd-88fb-a0be216e6609",
   "metadata": {},
   "source": [
    "# Define function for ANOVA test"
   ]
  },
  {
   "cell_type": "code",
   "execution_count": null,
   "id": "f598c8b3-4bf6-4e38-8d3b-b40bdb36d862",
   "metadata": {},
   "outputs": [],
   "source": [
    "def anova_test(df, column):\n",
    "    original_column = column\n",
    "    if ' ' in column:\n",
    "        column = column.replace(\" \", \"_\")\n",
    "        df.rename(columns={original_column: column}, inplace=True)   \n",
    "        \n",
    "    model = ols('Ціна ~ C('+column+')', data=df).fit()        \n",
    "    anova_table = sm.stats.anova_lm(model, typ=2)\n",
    "\n",
    "    if column != original_column:        \n",
    "        df.rename(columns={column: original_column}, inplace=True)\n",
    "        \n",
    "    return anova_table"
   ]
  },
  {
   "cell_type": "markdown",
   "id": "fc556523-84fe-493e-b6ef-c4c35bcd058a",
   "metadata": {},
   "source": [
    "# ANOVA test for city column"
   ]
  },
  {
   "cell_type": "code",
   "execution_count": null,
   "id": "447d4b7c-dc22-48a0-885a-7e48ec68ad18",
   "metadata": {},
   "outputs": [],
   "source": [
    "anova_test(df, 'Місто')"
   ]
  },
  {
   "cell_type": "markdown",
   "id": "54e23e99-32ba-4708-8aa7-dd9c0e761938",
   "metadata": {},
   "source": [
    "# Fill null values in district column with 'unknown' value and also replace rarely seen values with 'unknown'"
   ]
  },
  {
   "cell_type": "code",
   "execution_count": null,
   "id": "248ab26a-f625-48a9-a70f-01c76527a78c",
   "metadata": {},
   "outputs": [],
   "source": [
    "df[['Місто', 'Район']].isnull().sum()"
   ]
  },
  {
   "cell_type": "code",
   "execution_count": null,
   "id": "ad18f755-d19b-4109-b893-f4bd474186d9",
   "metadata": {},
   "outputs": [],
   "source": [
    "df['Район'] = df['Район'].fillna('Невідомо')"
   ]
  },
  {
   "cell_type": "code",
   "execution_count": null,
   "id": "03b56eb1-3261-45b3-b5da-67ec32d83cff",
   "metadata": {},
   "outputs": [],
   "source": [
    "disctrict_value_counts = df['Район'].value_counts()"
   ]
  },
  {
   "cell_type": "code",
   "execution_count": null,
   "id": "f2f554df-aa66-4bec-8aa8-8bb8e483974e",
   "metadata": {},
   "outputs": [],
   "source": [
    "disctrict_value_counts_less_than_6 = disctrict_value_counts[disctrict_value_counts < 6]\n",
    "df['Район'] = df['Район'].apply(lambda x: 'Невідомо' if x in disctrict_value_counts_less_than_6 else x)\n",
    "df['Район'].value_counts()"
   ]
  },
  {
   "cell_type": "markdown",
   "id": "f486f415-0205-4ba6-a1e1-d146ad4b76c6",
   "metadata": {},
   "source": [
    "# Check average rent prices by district"
   ]
  },
  {
   "cell_type": "code",
   "execution_count": null,
   "id": "530aadbc-0bd1-46f9-9828-a8e4706617b6",
   "metadata": {},
   "outputs": [],
   "source": [
    "grouped = df.groupby(['Район'])['Ціна'].aggregate('mean').reset_index().sort_values('Ціна', ascending=False)\n",
    "plt.figure(figsize=(15, 5))\n",
    "sns.barplot(x='Район', y='Ціна', data=df, order=grouped['Район'])\n",
    "plt.xticks(rotation=90)\n",
    "plt.show()"
   ]
  },
  {
   "cell_type": "markdown",
   "id": "262c928e-c0d1-4f4d-b8b1-8a2ff18025d0",
   "metadata": {},
   "source": [
    "# ANOVA test for district column"
   ]
  },
  {
   "cell_type": "code",
   "execution_count": null,
   "id": "c274d063-f1bb-41f5-a46c-054a6fd49841",
   "metadata": {},
   "outputs": [],
   "source": [
    "anova_test(df, 'Район')"
   ]
  },
  {
   "cell_type": "markdown",
   "id": "11dab714-0770-4009-b6fb-4fcddbc45dd1",
   "metadata": {},
   "source": [
    "# Remove original City/District column"
   ]
  },
  {
   "cell_type": "code",
   "execution_count": null,
   "id": "deec9216-2b68-4b25-82a2-bffafa16ebc0",
   "metadata": {},
   "outputs": [],
   "source": [
    "df.drop(\"Локація (Місто, Район)\", axis=1, inplace=True)"
   ]
  },
  {
   "cell_type": "markdown",
   "id": "7b49874b-10af-4c07-b48a-8991d1b48323",
   "metadata": {},
   "source": [
    "# Convert 'floor' and 'floors number' columns to integer"
   ]
  },
  {
   "cell_type": "code",
   "execution_count": null,
   "id": "b72e166e-c105-41e3-b5ee-81d523961c73",
   "metadata": {},
   "outputs": [],
   "source": [
    "df['Поверх'] = df['Поверх'].astype('int32')\n",
    "df['Поверховість'] = df['Поверховість'].astype('int32')"
   ]
  },
  {
   "cell_type": "markdown",
   "id": "a9b658c7-9053-4c73-8e0e-c81aab032774",
   "metadata": {},
   "source": [
    "# Check distribution for 'floor' column"
   ]
  },
  {
   "cell_type": "code",
   "execution_count": null,
   "id": "104d245b-b62f-46e3-8743-c5224116ae02",
   "metadata": {},
   "outputs": [],
   "source": [
    "sns.histplot(df['Поверх'])"
   ]
  },
  {
   "cell_type": "markdown",
   "id": "8d13eb15-a911-4085-9d00-377d43683890",
   "metadata": {},
   "source": [
    "# Check dependence 'price' from 'floor'"
   ]
  },
  {
   "cell_type": "code",
   "execution_count": null,
   "id": "ea3bcab5-949e-451e-b536-45642226eb67",
   "metadata": {},
   "outputs": [],
   "source": [
    "sns.barplot(x=df['Поверх'], y=df['Ціна'])\n",
    "plt.xticks(rotation=90)\n",
    "plt.show()"
   ]
  },
  {
   "cell_type": "markdown",
   "id": "4972d620-d68c-4cee-bfce-083b9492389d",
   "metadata": {},
   "source": [
    "# ANOVA test for floor column"
   ]
  },
  {
   "cell_type": "code",
   "execution_count": null,
   "id": "838e5d67-a65e-4b34-88d6-adce65e64982",
   "metadata": {},
   "outputs": [],
   "source": [
    "anova_test(df, 'Поверх')"
   ]
  },
  {
   "cell_type": "markdown",
   "id": "40c43e3f-b044-400d-8eaf-428a2c0255b0",
   "metadata": {},
   "source": [
    "# Check distribution for 'floors number' column"
   ]
  },
  {
   "cell_type": "code",
   "execution_count": null,
   "id": "5887fcf6-b6d3-45a3-936c-01249f111c74",
   "metadata": {},
   "outputs": [],
   "source": [
    "sns.histplot(df['Поверховість'])"
   ]
  },
  {
   "cell_type": "markdown",
   "id": "bfe37af0-962f-482d-958b-e8b831889ed6",
   "metadata": {},
   "source": [
    "# Check dependence 'price' from 'floors number'"
   ]
  },
  {
   "cell_type": "code",
   "execution_count": null,
   "id": "f9abff4f-c54b-4ebd-84fd-2187e05888a4",
   "metadata": {},
   "outputs": [],
   "source": [
    "sns.barplot(x=df['Поверховість'], y=df['Ціна'])\n",
    "plt.xticks(rotation=90)\n",
    "plt.show()"
   ]
  },
  {
   "cell_type": "markdown",
   "id": "73a4cb2c-33d6-408b-89c0-ff53ea99ba42",
   "metadata": {},
   "source": [
    "# ANOVA test for floors number column"
   ]
  },
  {
   "cell_type": "code",
   "execution_count": null,
   "id": "cdf9ad17-6142-4ba0-8085-bf1a1ddd1f1a",
   "metadata": {},
   "outputs": [],
   "source": [
    "anova_test(df, 'Поверховість')"
   ]
  },
  {
   "cell_type": "markdown",
   "id": "8a03b5ff-35a1-45f2-a037-a969039f4564",
   "metadata": {},
   "source": [
    "# Remove units and convert to float 'Total area' and 'Kitchen area' columns"
   ]
  },
  {
   "cell_type": "code",
   "execution_count": null,
   "id": "851aca0c-15b0-471b-8a38-0979c407f365",
   "metadata": {},
   "outputs": [],
   "source": [
    "df['Загальна площа'].str.contains(' м²').sum()"
   ]
  },
  {
   "cell_type": "code",
   "execution_count": null,
   "id": "1aed8281-1f9d-43a9-b66c-71b73d97898a",
   "metadata": {},
   "outputs": [],
   "source": [
    "df['Загальна площа'] = df['Загальна площа'].str.replace(' м²', '')\n",
    "df['Загальна площа'] = df['Загальна площа'].astype('float32')"
   ]
  },
  {
   "cell_type": "code",
   "execution_count": null,
   "id": "fb89a5cb-3dc9-49d2-87a6-35fdbbe2a4fe",
   "metadata": {},
   "outputs": [],
   "source": [
    "df['Загальна площа'].describe()"
   ]
  },
  {
   "cell_type": "markdown",
   "id": "1488a7cc-ea8d-4ba4-b931-f3a42641e9fc",
   "metadata": {},
   "source": [
    "# Check distribution for 'Total area' column"
   ]
  },
  {
   "cell_type": "code",
   "execution_count": null,
   "id": "8d7326e4-4aaf-4fc1-b098-e84fa13d87ae",
   "metadata": {},
   "outputs": [],
   "source": [
    "sns.kdeplot(df['Загальна площа'])"
   ]
  },
  {
   "cell_type": "markdown",
   "id": "8f3af00c-4611-496c-b346-2fc94bae5e14",
   "metadata": {},
   "source": [
    "# Check dependence 'price' from 'Total area'"
   ]
  },
  {
   "cell_type": "code",
   "execution_count": null,
   "id": "f0ee5e55-e22f-4e84-9b5e-b9d9feec26d2",
   "metadata": {},
   "outputs": [],
   "source": [
    "sns.scatterplot(x=df['Загальна площа'], y=df['Ціна'])"
   ]
  },
  {
   "cell_type": "code",
   "execution_count": null,
   "id": "453114f2-bb27-48e1-89bc-fffe08c894b2",
   "metadata": {},
   "outputs": [],
   "source": [
    "df['Площа кухні'].str.contains(' м²').sum()"
   ]
  },
  {
   "cell_type": "code",
   "execution_count": null,
   "id": "5ec552b7-d6b0-4c07-b26a-298dc2d84544",
   "metadata": {},
   "outputs": [],
   "source": [
    "df['Площа кухні'] = df['Площа кухні'].str.replace(' м²', '')\n",
    "df['Площа кухні'] = df['Площа кухні'].astype('float32')"
   ]
  },
  {
   "cell_type": "code",
   "execution_count": null,
   "id": "675fcf18-e705-477c-b6ad-a8e6d941a24e",
   "metadata": {},
   "outputs": [],
   "source": [
    "df['Площа кухні'].describe()"
   ]
  },
  {
   "cell_type": "markdown",
   "id": "5f4c9c41-f4b7-443a-a53c-48652ffab4af",
   "metadata": {},
   "source": [
    "# Check distribution for 'Kitchen area' column"
   ]
  },
  {
   "cell_type": "code",
   "execution_count": null,
   "id": "9db70d48-5021-40d2-960f-62c67cca65d5",
   "metadata": {},
   "outputs": [],
   "source": [
    "sns.kdeplot(df['Площа кухні'])"
   ]
  },
  {
   "cell_type": "markdown",
   "id": "53735a86-a864-4633-aef1-1c1ec77698a8",
   "metadata": {},
   "source": [
    "# Check dependence 'price' from 'Kitchen area'"
   ]
  },
  {
   "cell_type": "code",
   "execution_count": null,
   "id": "c13eda56-84b7-44f8-a41c-eaad6372b338",
   "metadata": {},
   "outputs": [],
   "source": [
    "sns.scatterplot(x=df['Площа кухні'], y=df['Ціна'])"
   ]
  },
  {
   "cell_type": "markdown",
   "id": "87832dba-dd4d-4085-8fe4-4402cb240758",
   "metadata": {},
   "source": [
    "# 'Number of rooms' column seems fine, no changes required"
   ]
  },
  {
   "cell_type": "code",
   "execution_count": null,
   "id": "f88694cc-ebb0-45b4-a436-354d55069097",
   "metadata": {},
   "outputs": [],
   "source": [
    "df['Кількість кімнат'].value_counts()"
   ]
  },
  {
   "cell_type": "markdown",
   "id": "86c13125-f5ee-49a8-ac1d-b8edcd8f40af",
   "metadata": {},
   "source": [
    "# Check distribution for 'Number of rooms' column"
   ]
  },
  {
   "cell_type": "code",
   "execution_count": null,
   "id": "44faaf94-ece5-4ad9-b8c5-99dd87199e47",
   "metadata": {},
   "outputs": [],
   "source": [
    "plt.figure(figsize=(10, 5))\n",
    "sns.histplot(df['Кількість кімнат'])"
   ]
  },
  {
   "cell_type": "markdown",
   "id": "683568cd-ac94-4b69-a093-038b8ff50e19",
   "metadata": {},
   "source": [
    "# Check dependence 'price' from 'Number of rooms'"
   ]
  },
  {
   "cell_type": "code",
   "execution_count": null,
   "id": "92e2a52b-ea09-43ef-969c-70e76a313ecc",
   "metadata": {},
   "outputs": [],
   "source": [
    "plt.figure(figsize=(10, 5))\n",
    "sns.barplot(x=df['Кількість кімнат'], y=df['Ціна'])"
   ]
  },
  {
   "cell_type": "markdown",
   "id": "ee7000d5-2672-4313-a0f7-6229c468701f",
   "metadata": {},
   "source": [
    "# ANOVA test for Number of rooms column"
   ]
  },
  {
   "cell_type": "code",
   "execution_count": null,
   "id": "e30b312f-4642-423d-9cd1-c322286d990d",
   "metadata": {},
   "outputs": [],
   "source": [
    "anova_test(df, 'Кількість кімнат')"
   ]
  },
  {
   "cell_type": "code",
   "execution_count": null,
   "id": "28597ab8-8776-42c8-ae94-f401da4c7734",
   "metadata": {},
   "outputs": [],
   "source": [
    "df.head()"
   ]
  },
  {
   "cell_type": "markdown",
   "id": "7ae0b0bb-f9f2-4dff-b202-aa30224a95c2",
   "metadata": {},
   "source": [
    "# Check 'Furniture' column and fill null values with 'unknown' value "
   ]
  },
  {
   "cell_type": "code",
   "execution_count": null,
   "id": "89aa8d1b-9548-4248-8476-f9a99f4e3f53",
   "metadata": {},
   "outputs": [],
   "source": [
    "df['Меблювання'].value_counts()"
   ]
  },
  {
   "cell_type": "code",
   "execution_count": null,
   "id": "6b9df4ea-cad1-437f-8aeb-8e08eab5a979",
   "metadata": {},
   "outputs": [],
   "source": [
    "df['Меблювання'].isnull().sum()"
   ]
  },
  {
   "cell_type": "code",
   "execution_count": null,
   "id": "3051ec61-baae-4137-a792-99775fbcd270",
   "metadata": {},
   "outputs": [],
   "source": [
    "df['Меблювання'] = df['Меблювання'].fillna('Не вказано')"
   ]
  },
  {
   "cell_type": "markdown",
   "id": "2006fc24-a134-44ac-a84f-2dea781a2194",
   "metadata": {},
   "source": [
    "# Check distribution for 'Furniture' column"
   ]
  },
  {
   "cell_type": "code",
   "execution_count": null,
   "id": "d29944bc-7721-47f3-a533-fb9d59731ea0",
   "metadata": {},
   "outputs": [],
   "source": [
    "plt.figure(figsize=(10, 5))\n",
    "sns.histplot(df['Меблювання'])"
   ]
  },
  {
   "cell_type": "markdown",
   "id": "171b1a3a-61db-452f-9a41-100c684bed26",
   "metadata": {},
   "source": [
    "# Check dependence 'price' from 'Furniture'"
   ]
  },
  {
   "cell_type": "code",
   "execution_count": null,
   "id": "9e23bb35-ce78-4c2b-87de-a7b6fee079a6",
   "metadata": {},
   "outputs": [],
   "source": [
    "plt.figure(figsize=(10, 5))\n",
    "sns.barplot(x=df['Меблювання'], y=df['Ціна'])"
   ]
  },
  {
   "cell_type": "code",
   "execution_count": null,
   "id": "4a53c6fd-3ebf-4696-a8b9-7720bc70e4eb",
   "metadata": {},
   "outputs": [],
   "source": [
    "df = df[df['Меблювання'] != 'Без меблів']"
   ]
  },
  {
   "cell_type": "markdown",
   "id": "2420b9db-2cd6-4373-beeb-0f1044d445b9",
   "metadata": {},
   "source": [
    "# ANOVA test for furniture column"
   ]
  },
  {
   "cell_type": "code",
   "execution_count": null,
   "id": "685ffb7d-4341-430d-848e-8d4cbddb851b",
   "metadata": {},
   "outputs": [],
   "source": [
    "anova_test(df, 'Меблювання')"
   ]
  },
  {
   "cell_type": "code",
   "execution_count": null,
   "id": "5046ab67-6c36-48ff-89f0-887bf8f0c07e",
   "metadata": {},
   "outputs": [],
   "source": [
    "#df.drop(columns=['Меблювання'], inplace=True)"
   ]
  },
  {
   "cell_type": "markdown",
   "id": "18460418-98f6-45c7-9fd0-df212feafb9a",
   "metadata": {},
   "source": [
    "# Check 'Repair' column, fill null values with 'unknown'"
   ]
  },
  {
   "cell_type": "code",
   "execution_count": null,
   "id": "8826f4e1-6a4b-435b-af30-338cbc5cbeca",
   "metadata": {},
   "outputs": [],
   "source": [
    "df['Ремонт'].value_counts()"
   ]
  },
  {
   "cell_type": "code",
   "execution_count": null,
   "id": "80e4440d-243a-41b2-add6-e46ff99bf8a3",
   "metadata": {},
   "outputs": [],
   "source": [
    "df['Ремонт'].isnull().sum()"
   ]
  },
  {
   "cell_type": "code",
   "execution_count": null,
   "id": "9c7b3d81-bd41-4aca-b4d4-46fbf173d853",
   "metadata": {},
   "outputs": [],
   "source": [
    "df['Ремонт'] = df['Ремонт'].fillna('Не вказано')"
   ]
  },
  {
   "cell_type": "markdown",
   "id": "f8884aeb-4891-4210-b42b-fe2b1676b6e1",
   "metadata": {},
   "source": [
    "# Check distribution for 'Repair' column"
   ]
  },
  {
   "cell_type": "code",
   "execution_count": null,
   "id": "90194c12-1ff7-433c-9733-c0d4bd4e3b33",
   "metadata": {},
   "outputs": [],
   "source": [
    "plt.figure(figsize=(12, 5))\n",
    "sns.histplot(df['Ремонт'])"
   ]
  },
  {
   "cell_type": "markdown",
   "id": "c2442d32-9cc6-4aca-ab58-6236a0f93b76",
   "metadata": {},
   "source": [
    "# Check dependence 'price' from 'Repair'"
   ]
  },
  {
   "cell_type": "code",
   "execution_count": null,
   "id": "f8857717-f0ef-4106-826a-7f79f05cae31",
   "metadata": {},
   "outputs": [],
   "source": [
    "plt.figure(figsize=(12, 5))\n",
    "sns.barplot(x=df['Ремонт'], y=df['Ціна'])"
   ]
  },
  {
   "cell_type": "markdown",
   "id": "29426323-94b0-4f64-a095-fe07899c2d68",
   "metadata": {},
   "source": [
    "# ANOVA test for Repair column"
   ]
  },
  {
   "cell_type": "code",
   "execution_count": null,
   "id": "053f4edc-0a9a-40af-a6f6-cba60a48bd57",
   "metadata": {},
   "outputs": [],
   "source": [
    "anova_test(df, 'Ремонт')"
   ]
  },
  {
   "cell_type": "markdown",
   "id": "f6241044-ea2f-4980-a8aa-0c1115d2ce20",
   "metadata": {},
   "source": [
    "# Convert 'Pets' column to binary format"
   ]
  },
  {
   "cell_type": "code",
   "execution_count": null,
   "id": "e2084d97-8a3b-48ed-bbfb-2579988e16b1",
   "metadata": {},
   "outputs": [],
   "source": [
    "df['Домашні улюбленці'].value_counts()"
   ]
  },
  {
   "cell_type": "code",
   "execution_count": null,
   "id": "88da6902-6612-4589-863f-27740fc87fb3",
   "metadata": {},
   "outputs": [],
   "source": [
    "df['Домашні улюбленці'].isnull().sum()"
   ]
  },
  {
   "cell_type": "code",
   "execution_count": null,
   "id": "05b84d6c-e95b-4020-89ee-fe40807cbfe7",
   "metadata": {},
   "outputs": [],
   "source": [
    "df['Домашні улюбленці'] = df['Домашні улюбленці'].fillna('').apply(lambda x: 1 if 'Так' in x else 0)\n",
    "df['Домашні улюбленці'] = df['Домашні улюбленці'].astype('int32')"
   ]
  },
  {
   "cell_type": "markdown",
   "id": "eb0083ad-233b-4c95-9832-d373efcad356",
   "metadata": {},
   "source": [
    "# Check distribution for 'Pets' column"
   ]
  },
  {
   "cell_type": "code",
   "execution_count": null,
   "id": "b3099da1-b6b2-4002-9d09-0cd4aa9231fe",
   "metadata": {},
   "outputs": [],
   "source": [
    "df['Домашні улюбленці'].value_counts().plot(kind='bar')"
   ]
  },
  {
   "cell_type": "markdown",
   "id": "f5c665d0-8f0d-459e-bfde-a4715a42c343",
   "metadata": {},
   "source": [
    "# Check dependence 'price' from 'Pets'"
   ]
  },
  {
   "cell_type": "code",
   "execution_count": null,
   "id": "372a719e-6b6f-470f-a61b-101fb3050e41",
   "metadata": {},
   "outputs": [],
   "source": [
    "sns.barplot(x=df['Домашні улюбленці'], y=df['Ціна'])"
   ]
  },
  {
   "cell_type": "markdown",
   "id": "823c17b2-08e3-4b09-85f3-94b774695c28",
   "metadata": {},
   "source": [
    "# ANOVA test for Pets column (result saying that there is no significant difference between groups)"
   ]
  },
  {
   "cell_type": "code",
   "execution_count": null,
   "id": "45303d30-67e7-4525-a4f3-80900f3f1e6b",
   "metadata": {},
   "outputs": [],
   "source": [
    "anova_test(df, 'Домашні улюбленці')"
   ]
  },
  {
   "cell_type": "markdown",
   "id": "4d983b25-5ea4-4fdf-8abc-b507159a8d96",
   "metadata": {},
   "source": [
    "# Select unique utilities, create binary columns for each and remove original column"
   ]
  },
  {
   "cell_type": "code",
   "execution_count": null,
   "id": "7ca3a3da-567d-49b9-bed9-f6f267cba50d",
   "metadata": {},
   "outputs": [],
   "source": [
    "df['Автономність при блекауті'].value_counts()"
   ]
  },
  {
   "cell_type": "code",
   "execution_count": null,
   "id": "cbf1a935-1722-4cc7-b1e5-7695faeb5453",
   "metadata": {},
   "outputs": [],
   "source": [
    "df['Автономність при блекауті'].isnull().sum()"
   ]
  },
  {
   "cell_type": "code",
   "execution_count": null,
   "id": "cc610c92-537e-4132-8de2-83c4f2034772",
   "metadata": {},
   "outputs": [],
   "source": [
    "unique_utilities = set()\n",
    "for value in df['Автономність при блекауті'].unique():\n",
    "    if type(value) == str:\n",
    "        unique_utilities.update(value.split(', '))\n",
    "for utility in unique_utilities:\n",
    "    df[utility] = df['Автономність при блекауті'].apply(lambda x: 1 if (type(x) == str) and (utility in x) else 0)\n",
    "df.head()"
   ]
  },
  {
   "cell_type": "code",
   "execution_count": null,
   "id": "dfde1fcf-93ac-4845-87ff-f17033f7c81a",
   "metadata": {},
   "outputs": [],
   "source": [
    "df.drop(columns=['Автономність при блекауті'], inplace=True)\n",
    "df.head()"
   ]
  },
  {
   "cell_type": "markdown",
   "id": "80f39054-5cef-4bbc-8727-9d8f81563234",
   "metadata": {},
   "source": [
    "# Check distrbitions and influences on 'price' column from all utilities columns"
   ]
  },
  {
   "cell_type": "code",
   "execution_count": null,
   "id": "a3af4e0a-7eae-4e8c-ad45-5f7fbde44c23",
   "metadata": {},
   "outputs": [],
   "source": [
    "df['Працює ліфт'].value_counts().plot(kind='bar')"
   ]
  },
  {
   "cell_type": "code",
   "execution_count": null,
   "id": "e6a79af6-421d-47b9-aec2-8b41d8ead758",
   "metadata": {},
   "outputs": [],
   "source": [
    "sns.barplot(x=df['Працює ліфт'], y=df['Ціна'])"
   ]
  },
  {
   "cell_type": "code",
   "execution_count": null,
   "id": "35531824-d6b8-443c-94a9-fe455e4479fd",
   "metadata": {},
   "outputs": [],
   "source": [
    "anova_test(df, 'Працює ліфт')"
   ]
  },
  {
   "cell_type": "code",
   "execution_count": null,
   "id": "624e045b-32c7-4a90-910e-15baf0332663",
   "metadata": {},
   "outputs": [],
   "source": [
    "df['Працює водопопостачання'].value_counts().plot(kind='bar')"
   ]
  },
  {
   "cell_type": "code",
   "execution_count": null,
   "id": "898f4ea2-03fa-4964-906f-a11498b5f929",
   "metadata": {},
   "outputs": [],
   "source": [
    "sns.barplot(x=df['Працює водопопостачання'], y=df['Ціна'])"
   ]
  },
  {
   "cell_type": "code",
   "execution_count": null,
   "id": "0a1fbd7b-f562-492a-b4f4-5375c7f601d1",
   "metadata": {},
   "outputs": [],
   "source": [
    "anova_test(df, 'Працює водопопостачання')"
   ]
  },
  {
   "cell_type": "code",
   "execution_count": null,
   "id": "30455d8c-27e1-43f7-b6e0-93ecc8ccdb0b",
   "metadata": {},
   "outputs": [],
   "source": [
    "df['Працює опалення'].value_counts().plot(kind='bar')"
   ]
  },
  {
   "cell_type": "code",
   "execution_count": null,
   "id": "0cc04931-dcd9-484d-b0e4-24e1dadc595a",
   "metadata": {},
   "outputs": [],
   "source": [
    "sns.barplot(x=df['Працює опалення'], y=df['Ціна'])"
   ]
  },
  {
   "cell_type": "code",
   "execution_count": null,
   "id": "393e3860-6675-4f41-bc2f-91d6baeba135",
   "metadata": {},
   "outputs": [],
   "source": [
    "anova_test(df, 'Працює опалення')"
   ]
  },
  {
   "cell_type": "code",
   "execution_count": null,
   "id": "88622bde-7a47-4020-aebe-35b75de3c407",
   "metadata": {},
   "outputs": [],
   "source": [
    "df['Підключене резервне живлення'].value_counts().plot(kind='bar')"
   ]
  },
  {
   "cell_type": "code",
   "execution_count": null,
   "id": "ebd69c7e-215c-4e08-9eb4-b7821cd85ce8",
   "metadata": {},
   "outputs": [],
   "source": [
    "sns.barplot(x=df['Підключене резервне живлення'], y=df['Ціна'])"
   ]
  },
  {
   "cell_type": "code",
   "execution_count": null,
   "id": "c753c395-8b08-48ae-94c9-b9c4af44a7a3",
   "metadata": {},
   "outputs": [],
   "source": [
    "anova_test(df, 'Підключене резервне живлення')"
   ]
  },
  {
   "cell_type": "code",
   "execution_count": null,
   "id": "fa0a71f6-26ad-4f55-b82f-7d6e69162f7d",
   "metadata": {},
   "outputs": [],
   "source": [
    "df['Працює інтернет'].value_counts().plot(kind='bar')"
   ]
  },
  {
   "cell_type": "code",
   "execution_count": null,
   "id": "604c84bf-fd03-4a91-a16d-74e1f3b83887",
   "metadata": {},
   "outputs": [],
   "source": [
    "sns.barplot(x=df['Працює інтернет'], y=df['Ціна'])"
   ]
  },
  {
   "cell_type": "code",
   "execution_count": null,
   "id": "5e56dafd-023c-41ae-86cd-34a846f8a24c",
   "metadata": {},
   "outputs": [],
   "source": [
    "anova_test(df, 'Працює інтернет')"
   ]
  },
  {
   "cell_type": "markdown",
   "id": "3e40ba7a-68ac-4da2-a7b7-cce9854a0d9a",
   "metadata": {},
   "source": [
    "# Check correlation for 'price' with all numerical features"
   ]
  },
  {
   "cell_type": "code",
   "execution_count": null,
   "id": "53ada034-af86-4da2-a54b-8352fa3bda05",
   "metadata": {},
   "outputs": [],
   "source": [
    "df.corr(numeric_only=True)['Ціна']"
   ]
  },
  {
   "cell_type": "code",
   "execution_count": null,
   "id": "611e84b0-e8a4-4b42-9ec9-32975ceb45fe",
   "metadata": {},
   "outputs": [],
   "source": [
    "plt.figure(figsize=(12, 10))\n",
    "sns.heatmap(df.corr(numeric_only=True), annot=True)\n",
    "plt.show()"
   ]
  },
  {
   "cell_type": "markdown",
   "id": "31c1a1fb-a00c-4645-abbf-9e2b936c90bb",
   "metadata": {},
   "source": [
    "# Remove columns with weak correlation with 'price'"
   ]
  },
  {
   "cell_type": "code",
   "execution_count": null,
   "id": "ebfe5176-5163-4659-a9fd-d434c10e984f",
   "metadata": {},
   "outputs": [],
   "source": [
    "df.drop('Домашні улюбленці', axis=1, inplace=True)\n",
    "df.drop(columns=['Працює інтернет', 'Працює опалення', 'Працює водопопостачання'], inplace=True)"
   ]
  },
  {
   "cell_type": "markdown",
   "id": "0b1e0b27-d391-48ce-aee7-7f7e66ee8901",
   "metadata": {},
   "source": [
    "# Take another look at the relationships between numerical columns from dataset"
   ]
  },
  {
   "cell_type": "code",
   "execution_count": null,
   "id": "0e77a598-afb2-4a15-af56-4bb42acff693",
   "metadata": {},
   "outputs": [],
   "source": [
    "sns.set()\n",
    "cols = ['Ціна', 'Поверх', 'Поверховість', 'Загальна площа', 'Площа кухні']\n",
    "sns.pairplot(df[cols], height=2.5)\n",
    "plt.show()"
   ]
  },
  {
   "cell_type": "markdown",
   "id": "998212ba-c12d-4a7a-9f7a-6b6c02fc8e4a",
   "metadata": {},
   "source": [
    "# From graph above i am notice that there is data point where 'floor' > than 'floor numbers' which make no sense. I think its fine to fix this data point by hands "
   ]
  },
  {
   "cell_type": "code",
   "execution_count": null,
   "id": "ca713366-d6b3-43fc-8b70-ff5af501529c",
   "metadata": {},
   "outputs": [],
   "source": [
    "df[df['Поверх'] > df['Поверховість']].head()"
   ]
  },
  {
   "cell_type": "code",
   "execution_count": null,
   "id": "8b1a3c70-22e8-428a-bdd2-edb84432aa07",
   "metadata": {},
   "outputs": [],
   "source": [
    "df.at[172, 'Поверховість'] = df.at[172, 'Поверх']"
   ]
  },
  {
   "cell_type": "code",
   "execution_count": null,
   "id": "ba246f92-b42e-4a32-b3e8-9f3c34ca19dc",
   "metadata": {},
   "outputs": [],
   "source": [
    "df.loc[172]"
   ]
  },
  {
   "cell_type": "markdown",
   "id": "6259087b-62d4-4f39-b88e-d9947496c464",
   "metadata": {},
   "source": [
    "# Check for duplicates once more after all data changes"
   ]
  },
  {
   "cell_type": "code",
   "execution_count": null,
   "id": "f122a941-2f5a-4e23-85cb-2894bf9334ab",
   "metadata": {},
   "outputs": [],
   "source": [
    "df.duplicated().sum()"
   ]
  },
  {
   "cell_type": "code",
   "execution_count": null,
   "id": "7afc5081-c81e-4cf5-8491-5b8f88b21955",
   "metadata": {},
   "outputs": [],
   "source": [
    "df.drop_duplicates(inplace=True)\n",
    "df.shape"
   ]
  },
  {
   "cell_type": "markdown",
   "id": "d8bf784e-877a-4ebb-962d-fb132eb62c59",
   "metadata": {},
   "source": [
    "# Apply log transformation for 'price' to get more 'normal' distribution"
   ]
  },
  {
   "cell_type": "code",
   "execution_count": null,
   "id": "ef16f345-ffb2-4c2d-aab2-e069fbec4746",
   "metadata": {},
   "outputs": [],
   "source": [
    "sns.distplot(df['Ціна'], fit=norm);\n",
    "fig = plt.figure()\n",
    "stats.probplot(df['Ціна'], plot=plt)"
   ]
  },
  {
   "cell_type": "code",
   "execution_count": null,
   "id": "8c87ae65-034a-45fe-a50c-a36db9d8ca96",
   "metadata": {},
   "outputs": [],
   "source": [
    "df_clean = df.copy(deep=True)\n",
    "df_clean.head()"
   ]
  },
  {
   "cell_type": "code",
   "execution_count": null,
   "id": "75fc2cf7-6eb2-444a-95ae-a83a6a2d5c95",
   "metadata": {},
   "outputs": [],
   "source": [
    "df['Ціна'] = np.log(df['Ціна'])\n",
    "df.head()"
   ]
  },
  {
   "cell_type": "code",
   "execution_count": null,
   "id": "78b9ef97-a2ca-406f-b2d1-1d53f765f07a",
   "metadata": {},
   "outputs": [],
   "source": [
    "sns.distplot(df['Ціна'], fit=norm);\n",
    "fig = plt.figure()\n",
    "res = stats.probplot(df['Ціна'], plot=plt)"
   ]
  },
  {
   "cell_type": "markdown",
   "id": "aa6b9a16-89cd-4b02-938b-714d97d24125",
   "metadata": {},
   "source": [
    "# Create train, test data"
   ]
  },
  {
   "cell_type": "code",
   "execution_count": null,
   "id": "0f7737e2-518c-404f-ba09-3b89a077fef5",
   "metadata": {},
   "outputs": [],
   "source": [
    "X = df.drop('Ціна', axis=1)\n",
    "y = df['Ціна']\n",
    "X_train,X_test,y_train,y_test = train_test_split(X, y, test_size=0.15)"
   ]
  },
  {
   "cell_type": "markdown",
   "id": "f66c6c02-e007-48ae-9cb3-9fd747911078",
   "metadata": {},
   "source": [
    "# Create some helpful functions and data for testing"
   ]
  },
  {
   "cell_type": "code",
   "execution_count": null,
   "id": "6ec259b7-84af-498d-87e2-e03b3fab1755",
   "metadata": {},
   "outputs": [],
   "source": [
    "data = [{\n",
    "    'Поверх': 14, 'Поверховість': 16, 'Загальна площа': 38.0, 'Площа кухні': 10.0, 'Кількість кімнат': '1 кімната', 'Меблювання': 'З меблями',\n",
    "    'Ремонт': 'Косметичний ремонт', 'Місто': 'Одеса', 'Район': 'Київський (Одеса)', 'Підключене резервне живлення': 0, 'Працює ліфт': 0\n",
    "},\n",
    "{\n",
    "    'Поверх': 20, 'Поверховість': 25, 'Загальна площа': 48.0, 'Площа кухні': 20.0, 'Кількість кімнат': '2 кімнати', 'Меблювання': 'З меблями',\n",
    "    'Ремонт': 'Євроремонт', 'Місто': 'Одеса', 'Район': 'Приморський (Одеса)', 'Підключене резервне живлення': 1, 'Працює ліфт': 0\n",
    "},\n",
    "{\n",
    "    'Поверх': 2, 'Поверховість': 5, 'Загальна площа': 20.0, 'Площа кухні': 7.0, 'Кількість кімнат': '1 кімната', 'Меблювання': 'З меблями',\n",
    "    'Ремонт': 'Косметичний ремонт', 'Місто': 'Запоріжжя', 'Район': 'Невідомо', 'Підключене резервне живлення': 0, 'Працює ліфт': 0\n",
    "},\n",
    "{\n",
    "    'Поверх': 30, 'Поверховість': 30, 'Загальна площа': 250.0, 'Площа кухні': 25.0, 'Кількість кімнат': '5+ кімнат', 'Меблювання': 'З меблями',\n",
    "    'Ремонт': 'Авторський проект', 'Місто': 'Київ', 'Район': 'Печерський (Київ)', 'Підключене резервне живлення': 1, 'Працює ліфт': 1\n",
    "},\n",
    "{\n",
    "    'Поверх': 8, 'Поверховість': 9, 'Загальна площа': 38.0, 'Площа кухні': 10.0, 'Кількість кімнат': '1 кімната', 'Меблювання': 'З меблями',\n",
    "    'Ремонт': 'Євроремонт', 'Місто': 'Львів', 'Район': 'Сихівський (Львів)', 'Підключене резервне живлення': 0, 'Працює ліфт': 0\n",
    "},\n",
    "{\n",
    "    'Поверх': 2, 'Поверховість': 5, 'Загальна площа': 41.0, 'Площа кухні': 20.0, 'Кількість кімнат': '1 кімната', 'Меблювання': 'З меблями',\n",
    "    'Ремонт': 'Авторський проект', 'Місто': 'Одеса', 'Район': 'Київський (Одеса)', 'Підключене резервне живлення': 0, 'Працює ліфт': 0\n",
    "},\n",
    "{\n",
    "    'Поверх': 1, 'Поверховість': 9, 'Загальна площа': 46.0, 'Площа кухні': 9.0, 'Кількість кімнат': '2 кімнати', 'Меблювання': 'З меблями',\n",
    "    'Ремонт': 'Житловий стан', 'Місто': 'Миколаїв', 'Район': 'Інгульський (Миколаїв)', 'Підключене резервне живлення': 0, 'Працює ліфт': 0\n",
    "}]\n",
    "manual_test_df = pd.DataFrame(data, index=[1,2,3,4,5,6,7])\n",
    "manual_test_df.head(10)"
   ]
  },
  {
   "cell_type": "code",
   "execution_count": null,
   "id": "7307c302-e796-4b2e-b350-34a78e86ee45",
   "metadata": {
    "editable": true,
    "slideshow": {
     "slide_type": ""
    },
    "tags": []
   },
   "outputs": [],
   "source": [
    "def run_manual_test(pipes_dict, manual_test_df):\n",
    "    manual_test_df_copy = manual_test_df.copy()\n",
    "    for name, pipe in pipes_dict.items():\n",
    "        if name in ['linear', 'Voting', 'Stacking']:\n",
    "            manual_test_df_copy['pred_price_' + name.title()] = np.exp(pipe.predict(manual_test_df_copy))\n",
    "        else:\n",
    "            manual_test_df_copy['pred_price_' + name.title()] = np.exp(pipe.best_estimator_.predict(manual_test_df_copy))\n",
    "    return manual_test_df_copy.head(10)"
   ]
  },
  {
   "cell_type": "code",
   "execution_count": null,
   "id": "08aa4e29-abdc-40e5-9daf-ffe0cffbab53",
   "metadata": {},
   "outputs": [],
   "source": [
    "def print_x_test_with_pred_prices(X_test, y_test, y_pred_dict):\n",
    "    check_df = X_test.copy()\n",
    "    for name, y_pred in y_pred_dict.items():\n",
    "        check_df['pred_price_' + name.title()] = np.exp(y_pred)\n",
    "    check_df['price'] = np.exp(y_test)\n",
    "    return check_df.sample(30, random_state=1)"
   ]
  },
  {
   "cell_type": "code",
   "execution_count": null,
   "id": "ffd15ecb-24bb-4132-ad59-2eae8f714669",
   "metadata": {},
   "outputs": [],
   "source": [
    "def scatterplots_for_pred_test(y_test, y_pred_dict):\n",
    "    for name, y_pred in y_pred_dict.items():\n",
    "        plt.figure(figsize=(8,7))\n",
    "        plt.scatter(np.exp(y_test), np.exp(y_pred))\n",
    "        plt.title(name.title())\n",
    "        plt.xlabel('y_test')\n",
    "        plt.ylabel('y_pred')\n",
    "        plt.plot(range(0, 100000), range(0, 100000), c='r')\n",
    "        plt.show()"
   ]
  },
  {
   "cell_type": "code",
   "execution_count": null,
   "id": "d88f944e-2b5e-4243-a1e3-a3aba81c85b4",
   "metadata": {},
   "outputs": [],
   "source": [
    "def error_for_pred_test(y_test, y_pred_dict):\n",
    "    for name, y_pred in y_pred_dict.items():\n",
    "        plt.figure(figsize=(12,10))\n",
    "        plt.scatter(np.exp(y_test), np.abs(np.exp(y_test) - np.exp(y_pred)))\n",
    "        plt.title(name.title())\n",
    "        plt.xlabel('y_test')\n",
    "        plt.ylabel('abs(y_test - y_pred)')\n",
    "        plt.show()"
   ]
  },
  {
   "cell_type": "code",
   "execution_count": null,
   "id": "e5cce0a1-23c4-4cc5-90ae-1c854a57cc47",
   "metadata": {},
   "outputs": [],
   "source": [
    "def print_metrics(y_test, y_pred_dict, pipes_dict):\n",
    "    bold_start = '\\033[1m'\n",
    "    bold_end = '\\033[0m'\n",
    "    for name, y_pred in y_pred_dict.items():\n",
    "        print('{bold_start}Results for {model_name}:{bold_end}'.format(bold_start=bold_start, model_name=name.title(), bold_end=bold_end))\n",
    "        if name not in ['linear', 'Voting', 'Stacking']:\n",
    "            print(\"Best parameters:\", pipes_dict[name].best_params_)\n",
    "            print(\"Best cross-validation score:\", pipes_dict[name].best_score_)\n",
    "        print('R2 score', r2_score(y_test, y_pred))\n",
    "        print('MAE', mean_absolute_error(y_test, y_pred))\n",
    "        print('MSE', mean_squared_error(y_test, y_pred))\n",
    "        print('--------------------------------------')"
   ]
  },
  {
   "cell_type": "code",
   "execution_count": null,
   "id": "359ae62b-c114-4849-ab34-533b9b387b10",
   "metadata": {},
   "outputs": [],
   "source": [
    "pipes_dict = {}\n",
    "y_pred_dict = {}"
   ]
  },
  {
   "cell_type": "code",
   "execution_count": null,
   "id": "6caf8992-fc39-4e33-afbb-522bf91f75ed",
   "metadata": {},
   "outputs": [],
   "source": [
    "df.head()"
   ]
  },
  {
   "cell_type": "markdown",
   "id": "b079e9ea-8c57-40c0-bcfd-c789c5d90387",
   "metadata": {},
   "source": [
    "# Create column transformer for One hot encoding categorical columns and scaling numerical columns"
   ]
  },
  {
   "cell_type": "code",
   "execution_count": null,
   "id": "378dff61-7c10-4d79-8b6a-361cce29e302",
   "metadata": {},
   "outputs": [],
   "source": [
    "col_tnf = ColumnTransformer(transformers=[\n",
    "    ('category_tnf', OneHotEncoder(handle_unknown='ignore'), [4,5,6,7,8]),\n",
    "    #('stand_scal_tnf', StandardScaler(), [0,1,2,3])\n",
    "    ('log_scaler_tnf', LogScaler(), [0,1,2,3])\n",
    "], remainder='passthrough')"
   ]
  },
  {
   "cell_type": "markdown",
   "id": "2997dd8b-d56a-4e4b-b0aa-ba311e1d6328",
   "metadata": {},
   "source": [
    "# Create linear regression model"
   ]
  },
  {
   "cell_type": "code",
   "execution_count": null,
   "id": "905932fe-e629-4e6f-b4ca-34443f49192a",
   "metadata": {},
   "outputs": [],
   "source": [
    "model = LinearRegression()\n",
    "\n",
    "pipe = Pipeline([\n",
    "    ('col_tnf', col_tnf),\n",
    "    ('model', model)\n",
    "])\n",
    "\n",
    "pipe.fit(X_train, y_train)\n",
    "\n",
    "y_pred = pipe.predict(X_test)\n",
    "\n",
    "pipes_dict['linear'] = pipe\n",
    "y_pred_dict['linear'] = y_pred"
   ]
  },
  {
   "cell_type": "markdown",
   "id": "ce9c6c8e-5db4-458c-bc2c-569c0d541653",
   "metadata": {},
   "source": [
    "# Create ridge regression model"
   ]
  },
  {
   "cell_type": "code",
   "execution_count": null,
   "id": "08721c56-a661-42d9-91d9-34d755c9f1bc",
   "metadata": {},
   "outputs": [],
   "source": [
    "model = Ridge()\n",
    "\n",
    "pipe = Pipeline([\n",
    "    ('col_tnf', col_tnf),\n",
    "    ('model', model)\n",
    "])\n",
    "\n",
    "param_grid = [{\n",
    "    'model__alpha': [0.5, 1]\n",
    "}]\n",
    "\n",
    "grid_pipeline = GridSearchCV(pipe, param_grid, cv=5)\n",
    "\n",
    "grid_pipeline.fit(X_train, y_train)\n",
    "\n",
    "y_pred = grid_pipeline.best_estimator_.predict(X_test)\n",
    "\n",
    "pipes_dict['ridge'] = grid_pipeline\n",
    "y_pred_dict['ridge'] = y_pred"
   ]
  },
  {
   "cell_type": "markdown",
   "id": "16e35124-f80d-44e4-a1dc-599f2faea90a",
   "metadata": {},
   "source": [
    "# Create lasso regression model"
   ]
  },
  {
   "cell_type": "code",
   "execution_count": null,
   "id": "bf373414-7df0-43f0-a239-ebff3c2673af",
   "metadata": {},
   "outputs": [],
   "source": [
    "model = Lasso()\n",
    "\n",
    "pipe = Pipeline([\n",
    "    ('col_tnf', col_tnf),\n",
    "    ('model', model)\n",
    "])\n",
    "\n",
    "param_grid = [{\n",
    "    'model__alpha': [0.0001, 0.001, 0.01]\n",
    "}]\n",
    "\n",
    "grid_pipeline = GridSearchCV(pipe, param_grid, cv=5)\n",
    "\n",
    "grid_pipeline.fit(X_train, y_train)\n",
    "\n",
    "y_pred = grid_pipeline.best_estimator_.predict(X_test)\n",
    "\n",
    "pipes_dict['lasso'] = grid_pipeline\n",
    "y_pred_dict['lasso'] = y_pred"
   ]
  },
  {
   "cell_type": "markdown",
   "id": "80fa4bb3-1648-46aa-90ce-5e77882a2572",
   "metadata": {},
   "source": [
    "# Create k neighbors regression model"
   ]
  },
  {
   "cell_type": "code",
   "execution_count": null,
   "id": "b4de10bc-f32f-45cc-898f-5bcb2983deeb",
   "metadata": {},
   "outputs": [],
   "source": [
    "model = KNeighborsRegressor()\n",
    "\n",
    "pipe = Pipeline([\n",
    "    ('col_tnf', col_tnf),\n",
    "    ('model', model)\n",
    "])\n",
    "\n",
    "param_grid = [{\n",
    "    'model__n_neighbors': [3, 5, 7]\n",
    "}]\n",
    "\n",
    "grid_pipeline = GridSearchCV(pipe, param_grid, cv=5)\n",
    "\n",
    "grid_pipeline.fit(X_train, y_train)\n",
    "\n",
    "y_pred = grid_pipeline.best_estimator_.predict(X_test)\n",
    "\n",
    "pipes_dict['kneighbors'] = grid_pipeline\n",
    "y_pred_dict['kneighbors'] = y_pred"
   ]
  },
  {
   "cell_type": "markdown",
   "id": "fff6bebb-d080-4e20-920d-420421a6b383",
   "metadata": {},
   "source": [
    "# Create Decision tree model"
   ]
  },
  {
   "cell_type": "code",
   "execution_count": null,
   "id": "2ab38eb6-c149-4a8e-adfe-677cd00c4922",
   "metadata": {},
   "outputs": [],
   "source": [
    "model = DecisionTreeRegressor()\n",
    "\n",
    "pipe = Pipeline([\n",
    "    ('col_tnf', col_tnf),\n",
    "    ('model', model)\n",
    "])\n",
    "\n",
    "param_grid = [{\n",
    "    'model__max_depth': [5, 7]\n",
    "}]\n",
    "\n",
    "grid_pipeline = GridSearchCV(pipe, param_grid, cv=5)\n",
    "\n",
    "grid_pipeline.fit(X_train, y_train)\n",
    "\n",
    "y_pred = grid_pipeline.best_estimator_.predict(X_test)\n",
    "\n",
    "pipes_dict['DecisionTree'] = grid_pipeline\n",
    "y_pred_dict['DecisionTree'] = y_pred"
   ]
  },
  {
   "cell_type": "markdown",
   "id": "6f3ae539-d96c-4734-ba88-9040b14698a1",
   "metadata": {},
   "source": [
    "# Create SVR model"
   ]
  },
  {
   "cell_type": "code",
   "execution_count": null,
   "id": "59f6b1b1-f37e-415c-800c-8676bdc5ae78",
   "metadata": {
    "editable": true,
    "slideshow": {
     "slide_type": ""
    },
    "tags": []
   },
   "outputs": [],
   "source": [
    "model = SVR(kernel='rbf')\n",
    "\n",
    "pipe = Pipeline([\n",
    "    ('col_tnf', col_tnf),\n",
    "    ('model', model)\n",
    "])\n",
    "\n",
    "param_grid = [{\n",
    "    'model__C': [1000, 10000],\n",
    "    'model__epsilon': [0.1, 1.0]\n",
    "}]\n",
    "\n",
    "grid_pipeline = GridSearchCV(pipe, param_grid, cv=5)\n",
    "\n",
    "grid_pipeline.fit(X_train, y_train)\n",
    "\n",
    "y_pred = grid_pipeline.best_estimator_.predict(X_test)\n",
    "\n",
    "pipes_dict['SVR'] = grid_pipeline\n",
    "y_pred_dict['SVR'] = y_pred"
   ]
  },
  {
   "cell_type": "markdown",
   "id": "8b7e7e34-a50a-4a01-a411-1fe98dee66c7",
   "metadata": {},
   "source": [
    "# Create Random Forest model"
   ]
  },
  {
   "cell_type": "code",
   "execution_count": null,
   "id": "74786e97-4a57-4e1b-888e-5836a8edf59d",
   "metadata": {},
   "outputs": [],
   "source": [
    "model = RandomForestRegressor()\n",
    "\n",
    "pipe = Pipeline([\n",
    "    ('col_tnf', col_tnf),\n",
    "    ('model', model)\n",
    "])\n",
    "\n",
    "param_grid = [{\n",
    "    'model__n_estimators': [200, 500]\n",
    "}]\n",
    "\n",
    "grid_pipeline = GridSearchCV(pipe, param_grid, cv=5)\n",
    "\n",
    "grid_pipeline.fit(X_train, y_train)\n",
    "\n",
    "y_pred = grid_pipeline.best_estimator_.predict(X_test)\n",
    "\n",
    "pipes_dict['RandomForest'] = grid_pipeline\n",
    "y_pred_dict['RandomForest'] = y_pred"
   ]
  },
  {
   "cell_type": "markdown",
   "id": "0eb76ba0-740d-4140-b977-f3ce10f25f32",
   "metadata": {},
   "source": [
    "# Create Extra trees regression model"
   ]
  },
  {
   "cell_type": "code",
   "execution_count": null,
   "id": "f3de79ac-e740-434c-b0a7-48477b8af268",
   "metadata": {},
   "outputs": [],
   "source": [
    "model = ExtraTreesRegressor()\n",
    "\n",
    "pipe = Pipeline([\n",
    "    ('col_tnf', col_tnf),\n",
    "    ('model', model)\n",
    "])\n",
    "\n",
    "param_grid = [{\n",
    "    'model__n_estimators': [300, 500]\n",
    "}]\n",
    "\n",
    "grid_pipeline = GridSearchCV(pipe, param_grid, cv=5)\n",
    "\n",
    "grid_pipeline.fit(X_train, y_train)\n",
    "\n",
    "y_pred = grid_pipeline.best_estimator_.predict(X_test)\n",
    "\n",
    "pipes_dict['ExtraTrees'] = grid_pipeline\n",
    "y_pred_dict['ExtraTrees'] = y_pred"
   ]
  },
  {
   "cell_type": "markdown",
   "id": "64b7e29d-aa02-48e7-ae1f-1e2ddd13a878",
   "metadata": {},
   "source": [
    "# Create AdaBoost regression model"
   ]
  },
  {
   "cell_type": "code",
   "execution_count": null,
   "id": "59a5d091-f5e5-4a84-8a24-9ed90252111f",
   "metadata": {},
   "outputs": [],
   "source": [
    "model = AdaBoostRegressor()\n",
    "\n",
    "pipe = Pipeline([\n",
    "    ('col_tnf', col_tnf),\n",
    "    ('model', model)\n",
    "])\n",
    "\n",
    "param_grid = [{\n",
    "    'model__n_estimators': [30, 50, 70],\n",
    "    'model__learning_rate': [0.1, 0.5]\n",
    "}]\n",
    "\n",
    "grid_pipeline = GridSearchCV(pipe, param_grid, cv=5)\n",
    "\n",
    "grid_pipeline.fit(X_train, y_train)\n",
    "\n",
    "y_pred = grid_pipeline.best_estimator_.predict(X_test)\n",
    "\n",
    "pipes_dict['AdaBoost'] = grid_pipeline\n",
    "y_pred_dict['AdaBoost'] = y_pred"
   ]
  },
  {
   "cell_type": "markdown",
   "id": "b27c0aa9-b5f1-4721-90fd-1550478912f4",
   "metadata": {},
   "source": [
    "# Create Gradient boosting regression model"
   ]
  },
  {
   "cell_type": "code",
   "execution_count": null,
   "id": "1c71c347-33aa-427e-8322-c48bb23efe7a",
   "metadata": {},
   "outputs": [],
   "source": [
    "model = GradientBoostingRegressor()\n",
    "\n",
    "pipe = Pipeline([\n",
    "    ('col_tnf', col_tnf),\n",
    "    ('model', model)\n",
    "])\n",
    "\n",
    "param_grid = [{\n",
    "    'model__n_estimators': [100, 200, 300],\n",
    "}]\n",
    "\n",
    "grid_pipeline = GridSearchCV(pipe, param_grid, cv=5)\n",
    "\n",
    "grid_pipeline.fit(X_train, y_train)\n",
    "\n",
    "y_pred = grid_pipeline.best_estimator_.predict(X_test)\n",
    "\n",
    "pipes_dict['GradBoost'] = grid_pipeline\n",
    "y_pred_dict['GradBoost'] = y_pred"
   ]
  },
  {
   "cell_type": "markdown",
   "id": "28eeddfc-7cd8-4a0e-bd49-4c76df3d8166",
   "metadata": {},
   "source": [
    "# Create XGBoost regression model"
   ]
  },
  {
   "cell_type": "code",
   "execution_count": null,
   "id": "dc79c1c8-b110-4cfa-a7f0-5b3e7f03fcdb",
   "metadata": {},
   "outputs": [],
   "source": [
    "model = GradientBoostingRegressor()\n",
    "\n",
    "pipe = Pipeline([\n",
    "    ('col_tnf', col_tnf),\n",
    "    ('model', model)\n",
    "])\n",
    "\n",
    "param_grid = [{\n",
    "    'model__n_estimators': [300, 500],\n",
    "    'model__max_depth': [2, 5],\n",
    "    'model__learning_rate': [0.01, 0.1],\n",
    "}]\n",
    "\n",
    "grid_pipeline = GridSearchCV(pipe, param_grid, cv=5)\n",
    "\n",
    "grid_pipeline.fit(X_train, y_train)\n",
    "\n",
    "y_pred = grid_pipeline.best_estimator_.predict(X_test)\n",
    "\n",
    "pipes_dict['XGBoost'] = grid_pipeline\n",
    "y_pred_dict['XGBoost'] = y_pred"
   ]
  },
  {
   "cell_type": "markdown",
   "id": "ab7cce29-add8-4843-aba4-fa992d4025cd",
   "metadata": {},
   "source": [
    "# Create Voting regression model"
   ]
  },
  {
   "cell_type": "code",
   "execution_count": null,
   "id": "051484cf-f46a-4e2c-880b-c14a768fa0a6",
   "metadata": {},
   "outputs": [],
   "source": [
    "estimators = [\n",
    "    ('lr', LinearRegression()),\n",
    "    ('ls', Lasso(alpha=0.001)),\n",
    "    ('et', ExtraTreesRegressor(n_estimators=500)),\n",
    "    ('gb', GradientBoostingRegressor(max_depth=2, n_estimators=500)),\n",
    "    ('xgb', XGBRegressor(max_depth=5, learning_rate=0.1, n_estimators=200))\n",
    "]\n",
    "\n",
    "model = VotingRegressor(estimators=estimators)\n",
    "\n",
    "pipe_voting = Pipeline([\n",
    "    ('col_tnf', col_tnf),\n",
    "    ('model', model)\n",
    "])\n",
    "\n",
    "pipe_voting.fit(X_train, y_train)\n",
    "\n",
    "y_pred = pipe_voting.predict(X_test)\n",
    "\n",
    "pipes_dict['Voting'] = pipe_voting\n",
    "y_pred_dict['Voting'] = y_pred"
   ]
  },
  {
   "cell_type": "markdown",
   "id": "98b9334f-8c48-41e9-a619-3e306af7c5f5",
   "metadata": {},
   "source": [
    "# Create Stacking regression model"
   ]
  },
  {
   "cell_type": "code",
   "execution_count": null,
   "id": "e2e2df61-fd21-402e-8641-bfcbb055732f",
   "metadata": {},
   "outputs": [],
   "source": [
    "estimators = [\n",
    "    ('lr', LinearRegression()),\n",
    "    ('ls', Lasso(alpha=0.001)),\n",
    "    ('et', ExtraTreesRegressor(n_estimators=500)),\n",
    "    ('gb', GradientBoostingRegressor(n_estimators=300)),\n",
    "    ('xgb', XGBRegressor(n_estimators=500, max_depth=2, learning_rate=0.1))\n",
    "]\n",
    "\n",
    "model = StackingRegressor(estimators=estimators, final_estimator=Ridge(alpha=1))\n",
    "\n",
    "pipe_stacking = Pipeline([\n",
    "    ('col_tnf', col_tnf),\n",
    "    ('model', model)\n",
    "])\n",
    "\n",
    "pipe_stacking.fit(X_train, y_train)\n",
    "\n",
    "y_pred = pipe_stacking.predict(X_test)\n",
    "\n",
    "pipes_dict['Stacking'] = pipe_stacking\n",
    "y_pred_dict['Stacking'] = y_pred"
   ]
  },
  {
   "cell_type": "markdown",
   "id": "72ea26db-2bfb-4b1d-8e19-c1dd71fde6bc",
   "metadata": {},
   "source": [
    "# Print results"
   ]
  },
  {
   "cell_type": "code",
   "execution_count": null,
   "id": "41dba75b-a42d-4791-837a-aabcbb778e47",
   "metadata": {},
   "outputs": [],
   "source": [
    "print_metrics(y_test, y_pred_dict, pipes_dict)"
   ]
  },
  {
   "cell_type": "code",
   "execution_count": null,
   "id": "5669f3cc-182d-4637-8824-d61ade41a34c",
   "metadata": {},
   "outputs": [],
   "source": [
    "run_manual_test(pipes_dict, manual_test_df)"
   ]
  },
  {
   "cell_type": "code",
   "execution_count": null,
   "id": "c4dd6df3-399c-4c0e-b157-3eb50e8f7f45",
   "metadata": {},
   "outputs": [],
   "source": [
    "print_x_test_with_pred_prices(X_test, y_test, y_pred_dict)"
   ]
  },
  {
   "cell_type": "code",
   "execution_count": null,
   "id": "a9700a77-f78f-4613-8ece-9a582e5d856e",
   "metadata": {},
   "outputs": [],
   "source": [
    "scatterplots_for_pred_test(y_test, y_pred_dict)"
   ]
  },
  {
   "cell_type": "code",
   "execution_count": null,
   "id": "4b14c643-68d9-47f9-a7c1-2ff678cf15a8",
   "metadata": {},
   "outputs": [],
   "source": [
    "error_for_pred_test(y_test, y_pred_dict)"
   ]
  },
  {
   "cell_type": "markdown",
   "id": "cc8a5db2-f377-4450-86d7-5550394fed72",
   "metadata": {},
   "source": [
    "# Helpful functions for interval models"
   ]
  },
  {
   "cell_type": "code",
   "execution_count": null,
   "id": "6ed0d517-ded7-4fa6-a241-6c0777e4d22d",
   "metadata": {},
   "outputs": [],
   "source": [
    "def print_x_test_with_pred_price_interval(X_test, y_test, lower_bounds, point_predictions, upper_bounds):\n",
    "    test_df = X_test.copy()\n",
    "    test_df['price'] = np.exp(y_test)\n",
    "    test_df['pred_price_low'] = np.exp(lower_bounds)\n",
    "    test_df['pred_price'] = np.exp(point_predictions)\n",
    "    test_df['pred_price_up'] = np.exp(upper_bounds)\n",
    "    return test_df.sample(30, random_state=1)"
   ]
  },
  {
   "cell_type": "code",
   "execution_count": null,
   "id": "7504b2c1-3c23-49aa-8359-807fe9d7f9c4",
   "metadata": {},
   "outputs": [],
   "source": [
    "def run_manual_test_interval(pipe, manual_test_df):\n",
    "    manual_test_df_copy = manual_test_df.copy()\n",
    "    predicted = pipe.predict(manual_test_df_copy)\n",
    "    lower_bound, y_pred, upper_bound = predicted[:, 0], predicted[:, 1], predicted[:, 2]\n",
    "    manual_test_df_copy['lower_pred_price'] = np.exp(lower_bound)\n",
    "    manual_test_df_copy['pred_price'] = np.exp(y_pred)\n",
    "    manual_test_df_copy['upper_pred_price'] = np.exp(upper_bound)\n",
    "    return manual_test_df_copy.head(10)"
   ]
  },
  {
   "cell_type": "code",
   "execution_count": null,
   "id": "7fb812d9-2a7e-4ad8-89d1-7cc19d712898",
   "metadata": {},
   "outputs": [],
   "source": [
    "def show_difference_in_predicted_intervals_and_actual_price(y_test, lower_bounds, point_predictions, upper_bounds):\n",
    "    y_test_sorted = y_test.sort_values()\n",
    "    lower_bounds_sorted = pd.Series(lower_bounds, index=y_test.index).reindex(y_test_sorted.index)\n",
    "    point_predictions_sorted = pd.Series(point_predictions, index=y_test.index).reindex(y_test_sorted.index)\n",
    "    upper_bounds_sorted = pd.Series(upper_bounds, index=y_test.index).reindex(y_test_sorted.index)\n",
    "    plt.figure(figsize=(20,10))\n",
    "    plt.title('Prices difference')\n",
    "    plt.xlabel('sorted test obserbations')\n",
    "    plt.ylabel('prices')\n",
    "    plt.plot(range(0, y_test_sorted.shape[0]), np.exp(y_test_sorted), c='blue', label='Actual price')\n",
    "    plt.plot(range(0, y_test_sorted.shape[0]), np.exp(lower_bounds_sorted), c='yellow', label='Low limit for pred price')\n",
    "    plt.plot(range(0, y_test_sorted.shape[0]), np.exp(point_predictions_sorted), c='orange', label='Pred price')\n",
    "    plt.plot(range(0, y_test_sorted.shape[0]), np.exp(upper_bounds_sorted), c='red', label='Upper limit for pred price')\n",
    "    plt.legend()\n",
    "    plt.show()"
   ]
  },
  {
   "cell_type": "code",
   "execution_count": null,
   "id": "5cfa947f-d7e6-4712-8e4d-a37c6622fdc7",
   "metadata": {},
   "outputs": [],
   "source": [
    "def average_diff(lower_bounds, upper_bounds):\n",
    "    return (np.exp(upper_bounds) - np.exp(lower_bounds)).mean()"
   ]
  },
  {
   "cell_type": "markdown",
   "id": "0fbcc335-6cb0-4a31-8c13-ddb1731e7e3c",
   "metadata": {},
   "source": [
    "# Loss function for interval model"
   ]
  },
  {
   "cell_type": "code",
   "execution_count": null,
   "id": "f48e0912-cf47-4777-9fe0-3e3ff7668ece",
   "metadata": {},
   "outputs": [],
   "source": [
    "from sklearn.metrics import make_scorer\n",
    "\n",
    "def interval_accuracy(y_true, y_pred):\n",
    "    y_pred_lower, y_pred_upper = y_pred[:, 0], y_pred[:, 2]\n",
    "    y_pred_lower = pd.Series(y_pred_lower, index=y_true.index)\n",
    "    y_pred_upper = pd.Series(y_pred_upper, index=y_true.index)\n",
    "    in_interval = ((y_pred_lower < y_true) & (y_true < y_pred_upper)).sum()\n",
    "    return in_interval/y_true.shape[0]\n",
    "\n",
    "interval_accuracy_scorer = make_scorer(interval_accuracy, greater_is_better=True)"
   ]
  },
  {
   "cell_type": "markdown",
   "id": "c168cf0d-a563-4adf-9aa8-5b134baf062b",
   "metadata": {},
   "source": [
    "# Create Voting regressor adapted to predict interval"
   ]
  },
  {
   "cell_type": "code",
   "execution_count": null,
   "id": "ae32c8cb-2842-4e85-aacd-8d99c1ef3f8b",
   "metadata": {},
   "outputs": [],
   "source": [
    "\"\"\"\n",
    "estimators = [\n",
    "    #('lr', LinearRegression()),\n",
    "    ('ls', Lasso(alpha=0.001)),\n",
    "    ('et', ExtraTreesRegressor(n_estimators=500)),\n",
    "    ('gb', GradientBoostingRegressor(max_depth=5)),\n",
    "    ('xgb', XGBRegressor(max_depth=2))\n",
    "]\n",
    "\n",
    "interval_voter = IntervalVotingRegressor(estimators=estimators, interval_width=0.9)\n",
    "\n",
    "pipe = Pipeline([\n",
    "    ('col_tnf', col_tnf),\n",
    "    ('model', interval_voter)\n",
    "])\n",
    "\n",
    "param_grid = [{\n",
    "    'model__gb__n_estimators': [100, 200],\n",
    "    'model__gb__learning_rate': [0.1, 0.5],\n",
    "    'model__xgb__n_estimators': [100, 200],\n",
    "    'model__xgb__learning_rate': [0.5, 0.1],\n",
    "}]\n",
    "\n",
    "grid_pipeline = GridSearchCV(pipe, param_grid, scoring=interval_accuracy_scorer, cv=5, verbose=3)\n",
    "\n",
    "grid_pipeline.fit(X_train, y_train)\n",
    "\n",
    "prediction = grid_pipeline.best_estimator_.predict(X_test)\n",
    "lower_bound, y_pred, upper_bound = prediction[:, 0], prediction[:, 1], prediction[:, 2]\n",
    "print(\"Best parameters:\", grid_pipeline.best_params_)\n",
    "print(\"Best cross-validation score:\", grid_pipeline.best_score_)\n",
    "\"\"\"\n",
    "\n",
    "estimators = [\n",
    "    ('lr', LinearRegression()),\n",
    "    ('ls', Lasso(alpha=0.005)),\n",
    "    ('et', ExtraTreesRegressor(n_estimators=500)),\n",
    "    ('gb', GradientBoostingRegressor(n_estimators=75)),\n",
    "    ('xgb', XGBRegressor(n_estimators=75))\n",
    "]\n",
    "\n",
    "interval_voter = IntervalVotingRegressor(estimators=estimators, weights=[1,1,1,1,1], interval_width=0.8)\n",
    "\n",
    "pipe = Pipeline([\n",
    "    ('col_tnf', col_tnf),\n",
    "    ('model', interval_voter)\n",
    "])\n",
    "\n",
    "pipe.fit(X_train, y_train)\n",
    "\n",
    "prediction = pipe.predict(X_test)\n",
    "lower_bound, y_pred, upper_bound = prediction[:, 0], prediction[:, 1], prediction[:, 2]"
   ]
  },
  {
   "cell_type": "markdown",
   "id": "1662c008-b013-4443-ba2d-6637f9aa7954",
   "metadata": {},
   "source": [
    "# Results for Interval Voting Regressor"
   ]
  },
  {
   "cell_type": "code",
   "execution_count": null,
   "id": "3a7fb8e1-9243-4a12-b24c-8acf13e8216a",
   "metadata": {},
   "outputs": [],
   "source": [
    "print('Interval accuracy: ', interval_accuracy(y_test, prediction))"
   ]
  },
  {
   "cell_type": "code",
   "execution_count": null,
   "id": "cc02133b-dd68-487e-a8c4-ff3389ee6773",
   "metadata": {},
   "outputs": [],
   "source": [
    "print('R2 score', r2_score(y_test, y_pred))\n",
    "print('MAE', mean_absolute_error(y_test, y_pred))\n",
    "print('MSE', mean_squared_error(y_test, y_pred))"
   ]
  },
  {
   "cell_type": "code",
   "execution_count": null,
   "id": "ec16246d-9ddf-4a3e-8fc5-0bc17086117f",
   "metadata": {},
   "outputs": [],
   "source": [
    "average_diff(lower_bound, upper_bound)"
   ]
  },
  {
   "cell_type": "code",
   "execution_count": null,
   "id": "e4c71794-f9ac-4272-b758-d8b5f2a1d437",
   "metadata": {},
   "outputs": [],
   "source": [
    "average_diff(lower_bound, upper_bound)/np.exp(y_test).mean()"
   ]
  },
  {
   "cell_type": "code",
   "execution_count": null,
   "id": "80b6200e-e495-41a7-996c-9b07a779894e",
   "metadata": {},
   "outputs": [],
   "source": [
    "average_diff(lower_bound, upper_bound)/np.exp(y_test).median()"
   ]
  },
  {
   "cell_type": "code",
   "execution_count": null,
   "id": "990d1dde-e52a-4c03-84ed-f8547fbd42b1",
   "metadata": {},
   "outputs": [],
   "source": [
    "average_diff(lower_bound, upper_bound)/np.exp(y_test).std()"
   ]
  },
  {
   "cell_type": "code",
   "execution_count": null,
   "id": "a0c87b8b-13a0-4b0e-bfea-3ecfe6320cf1",
   "metadata": {},
   "outputs": [],
   "source": [
    "run_manual_test_interval(pipe, manual_test_df)"
   ]
  },
  {
   "cell_type": "code",
   "execution_count": null,
   "id": "4e291421-23fc-4683-b8fb-54aa67d4b15f",
   "metadata": {},
   "outputs": [],
   "source": [
    "print_x_test_with_pred_price_interval(X_test, y_test, lower_bound, y_pred, upper_bound)"
   ]
  },
  {
   "cell_type": "code",
   "execution_count": null,
   "id": "e988bca0-97ac-406a-9b60-78a1cc19c55b",
   "metadata": {},
   "outputs": [],
   "source": [
    "show_difference_in_predicted_intervals_and_actual_price(y_test, lower_bound, y_pred, upper_bound)"
   ]
  },
  {
   "cell_type": "markdown",
   "id": "00e466b0-d28b-46fc-b5b9-7764bc57d0ab",
   "metadata": {},
   "source": [
    "# Save VotingRegression model. We are not gonna use IntervalVotingRegression model because of not very good accuracy"
   ]
  },
  {
   "cell_type": "code",
   "execution_count": null,
   "id": "d7ca0430-8ba3-4c8e-8062-0b5c01385135",
   "metadata": {},
   "outputs": [],
   "source": [
    "with open(config.get_path('model_path'), 'wb') as file:\n",
    "    joblib.dump(pipes_dict['Voting'], file)"
   ]
  },
  {
   "cell_type": "markdown",
   "id": "f93b944b-a0a1-4ed8-b312-5bbe8417ec94",
   "metadata": {},
   "source": [
    "# Save clean dataframe"
   ]
  },
  {
   "cell_type": "code",
   "execution_count": null,
   "id": "c20c98dd-fb7e-4baa-b70e-941cfc3aa648",
   "metadata": {},
   "outputs": [],
   "source": [
    "with open(config.get_path('clean_data_path'), 'wb') as file:\n",
    "    joblib.dump(df_clean, file)\n",
    "\n",
    "df_clean.to_csv(config.get_path('clean_data_csv_path'), sep=',', index=False)"
   ]
  }
 ],
 "metadata": {
  "kernelspec": {
   "display_name": "Python 3 (ipykernel)",
   "language": "python",
   "name": "python3"
  },
  "language_info": {
   "codemirror_mode": {
    "name": "ipython",
    "version": 3
   },
   "file_extension": ".py",
   "mimetype": "text/x-python",
   "name": "python",
   "nbconvert_exporter": "python",
   "pygments_lexer": "ipython3",
   "version": "3.12.3"
  }
 },
 "nbformat": 4,
 "nbformat_minor": 5
}
